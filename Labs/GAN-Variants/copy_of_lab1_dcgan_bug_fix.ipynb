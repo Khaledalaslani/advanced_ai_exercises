{
  "cells": [
    {
      "cell_type": "markdown",
      "id": "3a61449b",
      "metadata": {
        "id": "3a61449b"
      },
      "source": [
        "# DCGAN — Bug-Fix Labs - 10 Bugs"
      ]
    },
    {
      "cell_type": "code",
      "execution_count": null,
      "id": "575e2caa",
      "metadata": {
        "id": "575e2caa"
      },
      "outputs": [],
      "source": [
        "import torch, torchvision\n",
        "import torch.nn as nn\n",
        "from torch.utils.data import DataLoader\n",
        "from torchvision import transforms\n",
        "\n",
        "device = torch.device('cuda' if torch.cuda.is_available() else 'cpu')"
      ]
    },
    {
      "cell_type": "code",
      "execution_count": null,
      "id": "84de2c3f",
      "metadata": {
        "id": "84de2c3f"
      },
      "outputs": [],
      "source": [
        "# ---------------------------\n",
        "# Data\n",
        "# ---------------------------\n",
        "transform = transforms.Compose([\n",
        "    #transforms.Resize(32),\n",
        "    transforms.ToTensor(),                 # BUG\n",
        "    transforms.Normalize((0.5, 0.5, 0.5), (0.5, 0.5, 0.5))\n",
        "])\n",
        "ds = torchvision.datasets.CIFAR10('./data', train=True, download=True, transform=transform)\n",
        "loader = DataLoader(ds, batch_size=128, shuffle=True, num_workers=2, pin_memory=True)"
      ]
    },
    {
      "cell_type": "code",
      "execution_count": null,
      "id": "06807642",
      "metadata": {
        "id": "06807642"
      },
      "outputs": [],
      "source": [
        "# ---------------------------\n",
        "# Hyperparams\n",
        "# ---------------------------\n",
        "z_dim = 100\n",
        "g_lr  = 0.0002   # BUG\n",
        "d_lr  = 0.0002"
      ]
    },
    {
      "cell_type": "code",
      "execution_count": null,
      "id": "30cf60c9",
      "metadata": {
        "id": "30cf60c9"
      },
      "outputs": [],
      "source": [
        "# ---------------------------\n",
        "# Models\n",
        "# ---------------------------\n",
        "class D(nn.Module):\n",
        "    def __init__(self, ch=64):\n",
        "        super().__init__()\n",
        "        self.net = nn.Sequential(\n",
        "            nn.Conv2d(3, ch,   4, 2, 1),\n",
        "            nn.BatchNorm2d(ch), # added batchnorm\n",
        "            nn.LeakyReLU(0.2, inplace=True),        # BUG replaced relu with leaky 0.2\n",
        "            nn.Conv2d(ch, ch*2, 4, 2, 1),\n",
        "            nn.BatchNorm2d(ch*2),\n",
        "            nn.LeakyReLU(0.2, inplace=True),\n",
        "            nn.Conv2d(ch*2, ch*4, 4, 2, 1),\n",
        "            nn.BatchNorm2d(ch*4),\n",
        "            nn.LeakyReLU(0.2, inplace=True),\n",
        "            nn.Conv2d(ch*4, 1,    4, 1, 0)\n",
        "              # BUG no need for sigmoid\n",
        "        )\n",
        "    def forward(self, x):\n",
        "        return self.net(x).view(x.size(0))\n",
        "\n",
        "class G(nn.Module):\n",
        "    def __init__(self, z=100, ch=64):\n",
        "        super().__init__()\n",
        "        self.net = nn.Sequential(\n",
        "            nn.ConvTranspose2d(z,   ch*4, 4, 1, 0, bias=False),\n",
        "            nn.BatchNorm2d(ch*4), nn.ReLU(True),\n",
        "            nn.ConvTranspose2d(ch*4, ch*2, 4, 2, 1, bias=False),\n",
        "            nn.BatchNorm2d(ch*2), nn.ReLU(True),\n",
        "            nn.ConvTranspose2d(ch*2, ch,   4, 2, 1, bias=False),\n",
        "            nn.BatchNorm2d(ch),   nn.ReLU(True),\n",
        "            nn.ConvTranspose2d(ch,  3,     4, 2, 1, bias=False),\n",
        "            nn.Tanh() # BUG added tanh\n",
        "        )\n",
        "    def forward(self, z):\n",
        "        z = z.view(z.size(0), 100, 1, 1)   # BUG from 64 to z = 100\n",
        "        return self.net(z)\n",
        "\n",
        "Dnet = D().to(device)\n",
        "Gnet = G(z_dim).to(device)"
      ]
    },
    {
      "cell_type": "code",
      "execution_count": null,
      "id": "8f484697",
      "metadata": {
        "id": "8f484697"
      },
      "outputs": [],
      "source": [
        "# ---------------------------\n",
        "# Loss & Optimizers\n",
        "# ---------------------------\n",
        "crit = nn.BCEWithLogitsLoss()             # using logits loss → D must NOT have Sigmoid\n",
        "opt_d = torch.optim.Adam(Dnet.parameters(), lr=d_lr, betas=(0.5, 0.999)) # beta 0.5 according to the paper\n",
        "opt_g = torch.optim.Adam(Gnet.parameters(), lr=g_lr,  betas=(0.5, 0.999))"
      ]
    },
    {
      "cell_type": "code",
      "execution_count": null,
      "id": "6a269514",
      "metadata": {
        "colab": {
          "base_uri": "https://localhost:8080/"
        },
        "id": "6a269514",
        "outputId": "7b45521f-1911-4545-eaa4-358627538f01"
      },
      "outputs": [
        {
          "output_type": "stream",
          "name": "stdout",
          "text": [
            "Your task: fix all 10 bugs until training runs and samples look reasonable.\n"
          ]
        }
      ],
      "source": [
        "# ---------------------------\n",
        "# Training (intentionally wrong)\n",
        "# ---------------------------\n",
        "for real, _ in loader:\n",
        "    real = real.to(device)\n",
        "    b = real.size(0)\n",
        "\n",
        "    # ---- Discriminator step ----\n",
        "    z = torch.randn(b, z_dim, device=device)\n",
        "    fake = Gnet(z)                         # BUG ?\n",
        "\n",
        "    # BUG zeros <-> ones\n",
        "    loss_d = crit(Dnet(real), torch.ones(b, device=device)) + \\\n",
        "             crit(Dnet(fake), torch.zeros (b, device=device))\n",
        "\n",
        "    loss_d.backward()\n",
        "    opt_d.step()                           # BUG g -> d\n",
        "\n",
        "    # ---- Generator step ----\n",
        "    z = torch.randn(b, z_dim, device=device)\n",
        "    fake = Gnet(z)\n",
        "    # BUG\n",
        "    loss_g = crit(Dnet(fake), torch.ones(b, device=device)) #zeros -> ones\n",
        "    loss_g.backward()\n",
        "    opt_g.step()\n",
        "\n",
        "    opt_g.zero_grad()\n",
        "    opt_d.zero_grad()\n",
        "    # (missing)\n",
        "    # (missing)\n",
        "    # keep single mini-batch for this broken demo\n",
        "    break\n",
        "print(\"Your task: fix all 10 bugs until training runs and samples look reasonable.\")\n"
      ]
    }
  ],
  "metadata": {
    "kernelspec": {
      "display_name": "Python 3",
      "language": "python",
      "name": "python3"
    },
    "colab": {
      "provenance": []
    }
  },
  "nbformat": 4,
  "nbformat_minor": 5
}