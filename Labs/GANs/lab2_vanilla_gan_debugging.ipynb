{
  "cells": [
    {
      "cell_type": "markdown",
      "metadata": {
        "id": "w39ytpucNV3Y"
      },
      "source": [
        "# Lab 2: Debug a Broken Vanilla GAN (find 12+ issues)"
      ],
      "id": "w39ytpucNV3Y"
    },
    {
      "cell_type": "code",
      "source": [
        "import torch, torchvision, torch.nn as nn\n",
        "from torch.utils.data import DataLoader\n",
        "from torchvision import transforms"
      ],
      "metadata": {
        "id": "PQmtOpHwNg5h"
      },
      "id": "PQmtOpHwNg5h",
      "execution_count": null,
      "outputs": []
    },
    {
      "cell_type": "code",
      "metadata": {
        "id": "UVzKpfFeNV3a"
      },
      "execution_count": null,
      "outputs": [],
      "source": [
        "device=torch.device('cuda' if torch.cuda.is_available() else 'cpu')\n",
        "\n",
        "transform = transforms.Compose([\n",
        "\n",
        "    transforms.ToTensor(),\n",
        "    transforms.Normalize((0.5), (0.5))  # Normalize to [-1, 1]\n",
        "])  # BUG normalize\n",
        "\n",
        "loader=DataLoader(torchvision.datasets.MNIST('./data',True,download=True,transform=transform),batch_size=256,num_workers=2,shuffle=True)\n",
        "z_dim=100\n",
        "g_lr=2e-2\n",
        "d_lr=2e-5\n"
      ],
      "id": "UVzKpfFeNV3a"
    },
    {
      "cell_type": "code",
      "source": [
        "\n",
        "class Reshape(nn.Module):\n",
        "  \"\"\"A custom reshape layer.\"\"\"\n",
        "  def __init__(self, shape):\n",
        "    super(Reshape, self).__init__()\n",
        "    self.shape = shape\n",
        "\n",
        "  def forward(self, x):\n",
        "    return x.view(*self.shape)"
      ],
      "metadata": {
        "id": "MTWDTP_lcHtS"
      },
      "id": "MTWDTP_lcHtS",
      "execution_count": null,
      "outputs": []
    },
    {
      "cell_type": "code",
      "source": [
        "class D(nn.Module):\n",
        "    def __init__(self):\n",
        "        super().__init__()\n",
        "        self.net=nn.Sequential(nn.Conv2d(1,32,4,2,1),\n",
        "                               nn.LeakyReLU(0.2,True),\n",
        "                               nn.Conv2d(32,64,4,2,1),\n",
        "                               nn.BatchNorm2d(64),\n",
        "                               nn.LeakyReLU(0.2,True),\n",
        "                               nn.Conv2d(64,1,7,1,0))\n",
        "\n",
        "    def forward(self,x):\n",
        "      return self.net(x).view(x.size(0),-1)\n",
        "\n",
        "class G(nn.Module):\n",
        "    def __init__(self, z_dim):\n",
        "        super().__init__()\n",
        "        self.z_dim=z_dim\n",
        "        self.net=nn.Sequential(\n",
        "            nn.Linear(z_dim, 64*4*4),\n",
        "            nn.BatchNorm1d(64*4*4),\n",
        "            nn.ReLU(True),\n",
        "\n",
        "            Reshape((-1, 64, 4, 4)),\n",
        "\n",
        "            nn.ConvTranspose2d(64,128,4,1,0),\n",
        "            nn.BatchNorm2d(128),\n",
        "            nn.ReLU(True),\n",
        "            nn.ConvTranspose2d(128,64,4,2,1),\n",
        "            nn.BatchNorm2d(64),\n",
        "            nn.ReLU(True),\n",
        "            nn.ConvTranspose2d(64,1,4,2,1),\n",
        "            nn.Tanh())  # BUG missing Tanh\n",
        "    def forward(self,z):\n",
        "\n",
        "      z=z.view(z.size(0),-1)\n",
        "\n",
        "      return self.net(z)  # BUG reshape"
      ],
      "metadata": {
        "id": "5hQvPIojNqRT"
      },
      "id": "5hQvPIojNqRT",
      "execution_count": null,
      "outputs": []
    },
    {
      "cell_type": "code",
      "source": [
        "\n",
        "Dnet=D().to(device)\n",
        "Gnet=G(z_dim).to(device)\n",
        "crit=nn.BCEWithLogitsLoss()\n",
        "opt_d=torch.optim.Adam(Dnet.parameters(),lr=d_lr,betas=(0.9,0.999))\n",
        "opt_g=torch.optim.Adam(Gnet.parameters(),lr=g_lr,betas=(0.9,0.999))"
      ],
      "metadata": {
        "id": "F1snsZ0HNvM6"
      },
      "id": "F1snsZ0HNvM6",
      "execution_count": null,
      "outputs": []
    },
    {
      "cell_type": "code",
      "metadata": {
        "colab": {
          "base_uri": "https://localhost:8080/"
        },
        "id": "KaZRwWbxNV3b",
        "outputId": "87ad05f5-c271-4b79-f0d1-9724c3f10296"
      },
      "execution_count": null,
      "outputs": [
        {
          "output_type": "stream",
          "name": "stderr",
          "text": [
            "100%|██████████| 235/235 [00:11<00:00, 19.94it/s]"
          ]
        },
        {
          "output_type": "stream",
          "name": "stdout",
          "text": [
            "Now fix all the issues.\n"
          ]
        },
        {
          "output_type": "stream",
          "name": "stderr",
          "text": [
            "\n"
          ]
        }
      ],
      "source": [
        "from tqdm import tqdm\n",
        "for real,_ in tqdm(loader):\n",
        "\n",
        "    real=real.to(device)\n",
        "    b=real.size(0)\n",
        "    z=torch.randn(b,z_dim,device=device)\n",
        "    fake=Gnet(z.view(b,z_dim,1,1))\n",
        "    loss_d=crit(Dnet(real),torch.ones(b,1,device=device))+crit(Dnet(fake),torch.zeros(b,1,device=device))  # BUG labels\n",
        "\n",
        "    loss_d.backward();\n",
        "    opt_d.step()  # BUG 3\n",
        "    z= torch.randn(b,z_dim,device=device); fake=Gnet(z.view(b,z_dim,1,1))\n",
        "\n",
        "    loss_g= crit(Dnet(fake),torch.zeros(b,1,device=device))  # BUG non-sat\n",
        "    loss_g.backward()  # BUG missing step\n",
        "    opt_g.step()\n",
        "\n",
        "    opt_g.zero_grad()\n",
        "    opt_d.zero_grad()\n",
        "print('Now fix all the issues.')"
      ],
      "id": "KaZRwWbxNV3b"
    }
  ],
  "metadata": {
    "kernelspec": {
      "name": "python3",
      "display_name": "Python 3"
    },
    "colab": {
      "provenance": [],
      "gpuType": "T4"
    },
    "accelerator": "GPU"
  },
  "nbformat": 4,
  "nbformat_minor": 5
}